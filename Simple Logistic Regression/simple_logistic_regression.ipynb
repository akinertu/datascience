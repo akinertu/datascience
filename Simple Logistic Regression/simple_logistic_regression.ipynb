{
 "cells": [
  {
   "cell_type": "markdown",
   "id": "aaf5b216-2b4f-47c3-a37d-808107c12cde",
   "metadata": {},
   "source": [
    "# 0. Import the data and python libraries"
   ]
  },
  {
   "cell_type": "code",
   "execution_count": 3,
   "id": "4d7f0f11-3e6e-4bde-adf7-0671fe2abbd4",
   "metadata": {},
   "outputs": [],
   "source": [
    "# Import required modules\n",
    "import pandas as pd\n",
    "import numpy as np\n",
    "import matplotlib.pyplot as plt\n",
    "import seaborn as sns\n",
    "import math"
   ]
  },
  {
   "cell_type": "code",
   "execution_count": 4,
   "id": "9e17c7f5-c687-49f7-b8c3-4dfe82b8ccd9",
   "metadata": {},
   "outputs": [
    {
     "data": {
      "text/html": [
       "<div>\n",
       "<style scoped>\n",
       "    .dataframe tbody tr th:only-of-type {\n",
       "        vertical-align: middle;\n",
       "    }\n",
       "\n",
       "    .dataframe tbody tr th {\n",
       "        vertical-align: top;\n",
       "    }\n",
       "\n",
       "    .dataframe thead th {\n",
       "        text-align: right;\n",
       "    }\n",
       "</style>\n",
       "<table border=\"1\" class=\"dataframe\">\n",
       "  <thead>\n",
       "    <tr style=\"text-align: right;\">\n",
       "      <th></th>\n",
       "      <th>age</th>\n",
       "      <th>gender</th>\n",
       "      <th>driving_experience</th>\n",
       "      <th>education</th>\n",
       "      <th>income</th>\n",
       "      <th>credit_score</th>\n",
       "      <th>vehicle_ownership</th>\n",
       "      <th>vehicle_year</th>\n",
       "      <th>married</th>\n",
       "      <th>children</th>\n",
       "      <th>postal_code</th>\n",
       "      <th>annual_mileage</th>\n",
       "      <th>vehicle_type</th>\n",
       "      <th>speeding_violations</th>\n",
       "      <th>duis</th>\n",
       "      <th>past_accidents</th>\n",
       "      <th>outcome</th>\n",
       "    </tr>\n",
       "    <tr>\n",
       "      <th>id</th>\n",
       "      <th></th>\n",
       "      <th></th>\n",
       "      <th></th>\n",
       "      <th></th>\n",
       "      <th></th>\n",
       "      <th></th>\n",
       "      <th></th>\n",
       "      <th></th>\n",
       "      <th></th>\n",
       "      <th></th>\n",
       "      <th></th>\n",
       "      <th></th>\n",
       "      <th></th>\n",
       "      <th></th>\n",
       "      <th></th>\n",
       "      <th></th>\n",
       "      <th></th>\n",
       "    </tr>\n",
       "  </thead>\n",
       "  <tbody>\n",
       "    <tr>\n",
       "      <th>569520</th>\n",
       "      <td>3</td>\n",
       "      <td>0</td>\n",
       "      <td>0-9y</td>\n",
       "      <td>high school</td>\n",
       "      <td>upper class</td>\n",
       "      <td>0.629027</td>\n",
       "      <td>1.0</td>\n",
       "      <td>after 2015</td>\n",
       "      <td>0.0</td>\n",
       "      <td>1.0</td>\n",
       "      <td>10238</td>\n",
       "      <td>12000.0</td>\n",
       "      <td>sedan</td>\n",
       "      <td>0</td>\n",
       "      <td>0</td>\n",
       "      <td>0</td>\n",
       "      <td>0.0</td>\n",
       "    </tr>\n",
       "    <tr>\n",
       "      <th>750365</th>\n",
       "      <td>0</td>\n",
       "      <td>1</td>\n",
       "      <td>0-9y</td>\n",
       "      <td>none</td>\n",
       "      <td>poverty</td>\n",
       "      <td>0.357757</td>\n",
       "      <td>0.0</td>\n",
       "      <td>before 2015</td>\n",
       "      <td>0.0</td>\n",
       "      <td>0.0</td>\n",
       "      <td>10238</td>\n",
       "      <td>16000.0</td>\n",
       "      <td>sedan</td>\n",
       "      <td>0</td>\n",
       "      <td>0</td>\n",
       "      <td>0</td>\n",
       "      <td>1.0</td>\n",
       "    </tr>\n",
       "    <tr>\n",
       "      <th>199901</th>\n",
       "      <td>0</td>\n",
       "      <td>0</td>\n",
       "      <td>0-9y</td>\n",
       "      <td>high school</td>\n",
       "      <td>working class</td>\n",
       "      <td>0.493146</td>\n",
       "      <td>1.0</td>\n",
       "      <td>before 2015</td>\n",
       "      <td>0.0</td>\n",
       "      <td>0.0</td>\n",
       "      <td>10238</td>\n",
       "      <td>11000.0</td>\n",
       "      <td>sedan</td>\n",
       "      <td>0</td>\n",
       "      <td>0</td>\n",
       "      <td>0</td>\n",
       "      <td>0.0</td>\n",
       "    </tr>\n",
       "    <tr>\n",
       "      <th>478866</th>\n",
       "      <td>0</td>\n",
       "      <td>1</td>\n",
       "      <td>0-9y</td>\n",
       "      <td>university</td>\n",
       "      <td>working class</td>\n",
       "      <td>0.206013</td>\n",
       "      <td>1.0</td>\n",
       "      <td>before 2015</td>\n",
       "      <td>0.0</td>\n",
       "      <td>1.0</td>\n",
       "      <td>32765</td>\n",
       "      <td>11000.0</td>\n",
       "      <td>sedan</td>\n",
       "      <td>0</td>\n",
       "      <td>0</td>\n",
       "      <td>0</td>\n",
       "      <td>0.0</td>\n",
       "    </tr>\n",
       "    <tr>\n",
       "      <th>731664</th>\n",
       "      <td>1</td>\n",
       "      <td>1</td>\n",
       "      <td>10-19y</td>\n",
       "      <td>none</td>\n",
       "      <td>working class</td>\n",
       "      <td>0.388366</td>\n",
       "      <td>1.0</td>\n",
       "      <td>before 2015</td>\n",
       "      <td>0.0</td>\n",
       "      <td>0.0</td>\n",
       "      <td>32765</td>\n",
       "      <td>12000.0</td>\n",
       "      <td>sedan</td>\n",
       "      <td>2</td>\n",
       "      <td>0</td>\n",
       "      <td>1</td>\n",
       "      <td>1.0</td>\n",
       "    </tr>\n",
       "  </tbody>\n",
       "</table>\n",
       "</div>"
      ],
      "text/plain": [
       "        age  gender driving_experience    education         income  \\\n",
       "id                                                                   \n",
       "569520    3       0               0-9y  high school    upper class   \n",
       "750365    0       1               0-9y         none        poverty   \n",
       "199901    0       0               0-9y  high school  working class   \n",
       "478866    0       1               0-9y   university  working class   \n",
       "731664    1       1             10-19y         none  working class   \n",
       "\n",
       "        credit_score  vehicle_ownership vehicle_year  married  children  \\\n",
       "id                                                                        \n",
       "569520      0.629027                1.0   after 2015      0.0       1.0   \n",
       "750365      0.357757                0.0  before 2015      0.0       0.0   \n",
       "199901      0.493146                1.0  before 2015      0.0       0.0   \n",
       "478866      0.206013                1.0  before 2015      0.0       1.0   \n",
       "731664      0.388366                1.0  before 2015      0.0       0.0   \n",
       "\n",
       "        postal_code  annual_mileage vehicle_type  speeding_violations  duis  \\\n",
       "id                                                                            \n",
       "569520        10238         12000.0        sedan                    0     0   \n",
       "750365        10238         16000.0        sedan                    0     0   \n",
       "199901        10238         11000.0        sedan                    0     0   \n",
       "478866        32765         11000.0        sedan                    0     0   \n",
       "731664        32765         12000.0        sedan                    2     0   \n",
       "\n",
       "        past_accidents  outcome  \n",
       "id                               \n",
       "569520               0      0.0  \n",
       "750365               0      1.0  \n",
       "199901               0      0.0  \n",
       "478866               0      0.0  \n",
       "731664               1      1.0  "
      ]
     },
     "execution_count": 4,
     "metadata": {},
     "output_type": "execute_result"
    }
   ],
   "source": [
    "# import the data\n",
    "data = pd.read_csv('car_insurance.csv', index_col='id')\n",
    "data.head()"
   ]
  },
  {
   "cell_type": "markdown",
   "id": "9546385a-1413-4e52-8c93-57af453ff24a",
   "metadata": {},
   "source": [
    "# 1. Exploring Dataset"
   ]
  },
  {
   "cell_type": "code",
   "execution_count": 5,
   "id": "08fe8654-9e65-4cb5-a36c-5794510968da",
   "metadata": {},
   "outputs": [
    {
     "name": "stdout",
     "output_type": "stream",
     "text": [
      "<class 'pandas.core.frame.DataFrame'>\n",
      "Index: 10000 entries, 569520 to 442696\n",
      "Data columns (total 17 columns):\n",
      " #   Column               Non-Null Count  Dtype  \n",
      "---  ------               --------------  -----  \n",
      " 0   age                  10000 non-null  int64  \n",
      " 1   gender               10000 non-null  int64  \n",
      " 2   driving_experience   10000 non-null  object \n",
      " 3   education            10000 non-null  object \n",
      " 4   income               10000 non-null  object \n",
      " 5   credit_score         9018 non-null   float64\n",
      " 6   vehicle_ownership    10000 non-null  float64\n",
      " 7   vehicle_year         10000 non-null  object \n",
      " 8   married              10000 non-null  float64\n",
      " 9   children             10000 non-null  float64\n",
      " 10  postal_code          10000 non-null  int64  \n",
      " 11  annual_mileage       9043 non-null   float64\n",
      " 12  vehicle_type         10000 non-null  object \n",
      " 13  speeding_violations  10000 non-null  int64  \n",
      " 14  duis                 10000 non-null  int64  \n",
      " 15  past_accidents       10000 non-null  int64  \n",
      " 16  outcome              10000 non-null  float64\n",
      "dtypes: float64(6), int64(6), object(5)\n",
      "memory usage: 1.4+ MB\n"
     ]
    }
   ],
   "source": [
    "data.info() #missing values and dtypes"
   ]
  },
  {
   "cell_type": "markdown",
   "id": "3b32791b-9df4-4432-86fd-0e65e40cd0b5",
   "metadata": {},
   "source": [
    "## 1.1 Filling missing values"
   ]
  },
  {
   "cell_type": "code",
   "execution_count": 6,
   "id": "bf6f41b3-9cab-406f-8a7c-bbffae8674e6",
   "metadata": {},
   "outputs": [
    {
     "data": {
      "text/plain": [
       "credit_score      9.82\n",
       "annual_mileage    9.57\n",
       "dtype: float64"
      ]
     },
     "execution_count": 6,
     "metadata": {},
     "output_type": "execute_result"
    }
   ],
   "source": [
    "# % Ratio of missing values\n",
    "missing_values = data.isnull().mean()\n",
    "missing_values = missing_values[missing_values > 0]*100\n",
    "missing_values"
   ]
  },
  {
   "cell_type": "code",
   "execution_count": 7,
   "id": "4daf4b42-b72c-49c9-a0cf-cd3b3b0af4d8",
   "metadata": {},
   "outputs": [
    {
     "name": "stdout",
     "output_type": "stream",
     "text": [
      "<class 'pandas.core.frame.DataFrame'>\n",
      "Index: 10000 entries, 569520 to 442696\n",
      "Data columns (total 17 columns):\n",
      " #   Column               Non-Null Count  Dtype  \n",
      "---  ------               --------------  -----  \n",
      " 0   age                  10000 non-null  int64  \n",
      " 1   gender               10000 non-null  int64  \n",
      " 2   driving_experience   10000 non-null  object \n",
      " 3   education            10000 non-null  object \n",
      " 4   income               10000 non-null  object \n",
      " 5   credit_score         10000 non-null  float64\n",
      " 6   vehicle_ownership    10000 non-null  float64\n",
      " 7   vehicle_year         10000 non-null  object \n",
      " 8   married              10000 non-null  float64\n",
      " 9   children             10000 non-null  float64\n",
      " 10  postal_code          10000 non-null  int64  \n",
      " 11  annual_mileage       10000 non-null  float64\n",
      " 12  vehicle_type         10000 non-null  object \n",
      " 13  speeding_violations  10000 non-null  int64  \n",
      " 14  duis                 10000 non-null  int64  \n",
      " 15  past_accidents       10000 non-null  int64  \n",
      " 16  outcome              10000 non-null  float64\n",
      "dtypes: float64(6), int64(6), object(5)\n",
      "memory usage: 1.4+ MB\n"
     ]
    }
   ],
   "source": [
    "data[missing_values.index] = data[missing_values.index].fillna(data[missing_values.index].mean())\n",
    "data.info()"
   ]
  },
  {
   "cell_type": "markdown",
   "id": "0d41b947-668d-4b40-834e-7365cf274db5",
   "metadata": {},
   "source": [
    "## 1.2 Correcting Data Types"
   ]
  },
  {
   "cell_type": "code",
   "execution_count": 8,
   "id": "65cc4f79-7b5b-4bfa-a7d0-fe93b5dff3c9",
   "metadata": {},
   "outputs": [],
   "source": [
    "# list of data types\n",
    "dtype_list = {'age':'category',\n",
    "              'gender':'category',\n",
    "              'driving_experience':'category',\n",
    "              'education':'category',\n",
    "              'income':'category',\n",
    "              'credit_score':'float64',\n",
    "              'vehicle_ownership':'category',\n",
    "              'vehicle_year':'category',\n",
    "              'married':'category',\n",
    "              'children':'category',\n",
    "              'postal_code':'O',\n",
    "              'annual_mileage':'float64',\n",
    "              'vehicle_type':'category',\n",
    "              'speeding_violations':'int32',\n",
    "              'duis':'int32',\n",
    "              'past_accidents':'int32',\n",
    "              'outcome':'int32'}"
   ]
  },
  {
   "cell_type": "code",
   "execution_count": 9,
   "id": "cb1bc64e-51c3-4d17-a496-c533564cbb3f",
   "metadata": {},
   "outputs": [
    {
     "name": "stdout",
     "output_type": "stream",
     "text": [
      "<class 'pandas.core.frame.DataFrame'>\n",
      "Index: 10000 entries, 569520 to 442696\n",
      "Data columns (total 17 columns):\n",
      " #   Column               Non-Null Count  Dtype   \n",
      "---  ------               --------------  -----   \n",
      " 0   age                  10000 non-null  category\n",
      " 1   gender               10000 non-null  category\n",
      " 2   driving_experience   10000 non-null  category\n",
      " 3   education            10000 non-null  category\n",
      " 4   income               10000 non-null  category\n",
      " 5   credit_score         10000 non-null  float64 \n",
      " 6   vehicle_ownership    10000 non-null  category\n",
      " 7   vehicle_year         10000 non-null  category\n",
      " 8   married              10000 non-null  category\n",
      " 9   children             10000 non-null  category\n",
      " 10  postal_code          10000 non-null  object  \n",
      " 11  annual_mileage       10000 non-null  float64 \n",
      " 12  vehicle_type         10000 non-null  category\n",
      " 13  speeding_violations  10000 non-null  int32   \n",
      " 14  duis                 10000 non-null  int32   \n",
      " 15  past_accidents       10000 non-null  int32   \n",
      " 16  outcome              10000 non-null  int32   \n",
      "dtypes: category(10), float64(2), int32(4), object(1)\n",
      "memory usage: 567.9+ KB\n"
     ]
    }
   ],
   "source": [
    "# change data types\n",
    "data = data.astype(dtype_list)\n",
    "data.info()"
   ]
  },
  {
   "cell_type": "code",
   "execution_count": 10,
   "id": "4b0fe873-e68a-4889-a697-9f372af64dd7",
   "metadata": {},
   "outputs": [
    {
     "data": {
      "text/plain": [
       "age                   4\n",
       "gender                2\n",
       "driving_experience    4\n",
       "education             3\n",
       "income                4\n",
       "vehicle_ownership     2\n",
       "vehicle_year          2\n",
       "married               2\n",
       "children              2\n",
       "vehicle_type          2\n",
       "dtype: int64"
      ]
     },
     "execution_count": 10,
     "metadata": {},
     "output_type": "execute_result"
    }
   ],
   "source": [
    "# # of unique values in categorical data\n",
    "categories = data.dtypes[data.dtypes == 'category'].index\n",
    "unique_categories = data[categories].nunique()\n",
    "unique_categories"
   ]
  },
  {
   "cell_type": "markdown",
   "id": "0a961759-838c-47b4-8626-2b689403ef97",
   "metadata": {},
   "source": [
    "## 1.3 Explatory Analysis"
   ]
  },
  {
   "cell_type": "code",
   "execution_count": 11,
   "id": "5365ea3d-641a-4855-8876-7e02a23c92cd",
   "metadata": {},
   "outputs": [
    {
     "data": {
      "image/png": "[encoded data removed]",
      "text/plain": [
       "<Figure size 900x600 with 12 Axes>"
      ]
     },
     "metadata": {},
     "output_type": "display_data"
    }
   ],
   "source": [
    "# ratio of outcome=1 in each category\n",
    "fig, axs = plt.subplots(ncols=3, nrows=4, figsize=(9, 6), layout=\"constrained\")\n",
    "i = 0\n",
    "for cat in unique_categories.index:\n",
    "    outcome_counts = data.groupby([cat,\"outcome\"], observed=False).outcome.value_counts()\n",
    "    category_df = pd.DataFrame(outcome_counts).reset_index(names=[cat,\"outcome\"])\n",
    "    category_pivot = category_df.pivot_table(index=cat, columns=\"outcome\", values=\"count\", observed=False)\n",
    "    category_pivot.plot.barh(stacked=True, ax=axs[math.floor(i/3)][i % 3], legend=False)\n",
    "    i += 1"
   ]
  },
  {
   "cell_type": "markdown",
   "id": "82e61d8a-4958-4f5f-829f-46564dbdd8d7",
   "metadata": {},
   "source": [
    "# 3. Model (Simple Logistic Regression)"
   ]
  },
  {
   "cell_type": "code",
   "execution_count": 12,
   "id": "97a6d035-8162-4e29-9186-2e91f33a0396",
   "metadata": {},
   "outputs": [],
   "source": [
    "from statsmodels.formula.api import logit "
   ]
  },
  {
   "cell_type": "markdown",
   "id": "63d2e06c-1387-4790-b87a-c172a07b38d7",
   "metadata": {},
   "source": [
    "## 3.1 Numerical Feature Example"
   ]
  },
  {
   "cell_type": "code",
   "execution_count": 13,
   "id": "77efc41d-227d-408e-bb4f-3c7a286248a5",
   "metadata": {},
   "outputs": [
    {
     "name": "stdout",
     "output_type": "stream",
     "text": [
      "Optimization terminated successfully.\n",
      "         Current function value: 0.572557\n",
      "         Iterations 6\n",
      "Intercept       1.950228\n",
      "credit_score   -5.464491\n",
      "dtype: float64\n"
     ]
    }
   ],
   "source": [
    "mdl_outcome_vs_credit_score = logit(\"outcome ~ credit_score\", data=data).fit()\n",
    "intercept, slope = mdl_outcome_vs_credit_score.params\n",
    "print(mdl_outcome_vs_credit_score.params)"
   ]
  },
  {
   "cell_type": "code",
   "execution_count": 14,
   "id": "6025bd05-a997-41f2-abae-13e08d510e09",
   "metadata": {},
   "outputs": [
    {
     "data": {
      "image/png": "[encoded data removed]",
      "text/plain": [
       "<Figure size 640x480 with 1 Axes>"
      ]
     },
     "metadata": {},
     "output_type": "display_data"
    }
   ],
   "source": [
    "# Visualizing the logistic model\n",
    "sns.regplot(x=\"credit_score\", \n",
    "            y=\"outcome\", \n",
    "            data=data, \n",
    "            ci=None, \n",
    "            logistic=True) \n",
    "\n",
    "explanatory_data = pd.DataFrame( \n",
    "  {\"credit_score\": np.arange(0.00, 1.2, 0.1)}) \n",
    "\n",
    "prediction_data = explanatory_data.assign( \n",
    "    outcome = mdl_outcome_vs_credit_score.predict(explanatory_data)) \n",
    "\n",
    "sns.scatterplot(x=\"credit_score\", \n",
    "                y=\"outcome\", \n",
    "                data=prediction_data, \n",
    "                color=\"red\") \n",
    "\n",
    "sns.scatterplot(x=\"credit_score\", \n",
    "                y=\"outcome2\", \n",
    "                data = prediction_data.assign(outcome2 = np.round(prediction_data[\"outcome\"])), \n",
    "                color=\"green\") \n",
    "plt.show() "
   ]
  },
  {
   "cell_type": "code",
   "execution_count": 15,
   "id": "75c4750f-bc53-456d-9034-fb19a73a6be4",
   "metadata": {},
   "outputs": [
    {
     "data": {
      "text/plain": [
       "array([[6321.,  546.],\n",
       "       [2400.,  733.]])"
      ]
     },
     "execution_count": 15,
     "metadata": {},
     "output_type": "execute_result"
    }
   ],
   "source": [
    "conf_matrix = mdl_outcome_vs_credit_score.pred_table()\n",
    "conf_matrix"
   ]
  },
  {
   "cell_type": "code",
   "execution_count": 16,
   "id": "038d5e71-75d2-4cc1-9419-7c08e77adf64",
   "metadata": {},
   "outputs": [
    {
     "name": "stdout",
     "output_type": "stream",
     "text": [
      "[['true negative' 'false positive']\n",
      " ['false negative' 'true positive']]\n"
     ]
    }
   ],
   "source": [
    "confusion_matrix = np.array([[\"true negative\",\"false positive\"],\n",
    "                    [\"false negative\",\"true positive\"]])\n",
    "print(confusion_matrix)"
   ]
  },
  {
   "cell_type": "markdown",
   "id": "eb6fddf5-3656-4d98-ac57-dec374812c2a",
   "metadata": {},
   "source": [
    "accuracy = (tn+tp)/(tn+fp+fn+tp)"
   ]
  },
  {
   "cell_type": "code",
   "execution_count": 17,
   "id": "3939c44e-0c0e-4b53-b6c5-3728c59c15c7",
   "metadata": {},
   "outputs": [
    {
     "data": {
      "text/plain": [
       "0.7054"
      ]
     },
     "execution_count": 17,
     "metadata": {},
     "output_type": "execute_result"
    }
   ],
   "source": [
    "accuracy = (conf_matrix[0][0] + conf_matrix[1][1])/conf_matrix.sum()\n",
    "accuracy"
   ]
  },
  {
   "cell_type": "markdown",
   "id": "2281ade3-3f19-4a3d-b48c-6ec1e31c619d",
   "metadata": {},
   "source": [
    "## 3.2 Ordinal CategoryExample"
   ]
  },
  {
   "cell_type": "code",
   "execution_count": 18,
   "id": "feb8beae-5374-4097-bb57-9be9e6dddc00",
   "metadata": {},
   "outputs": [
    {
     "name": "stdout",
     "output_type": "stream",
     "text": [
      "Optimization terminated successfully.\n",
      "         Current function value: 0.467092\n",
      "         Iterations 8\n",
      "Intercept                       0.523840\n",
      "driving_experience[T.10-19y]   -1.684447\n",
      "driving_experience[T.20-29y]   -3.438382\n",
      "driving_experience[T.30y+]     -4.467362\n",
      "dtype: float64\n"
     ]
    }
   ],
   "source": [
    "mdl_outcome_vs_driving_experience = logit(\"outcome ~ driving_experience\", data=data).fit()\n",
    "print(mdl_outcome_vs_driving_experience.params)"
   ]
  },
  {
   "cell_type": "markdown",
   "id": "1da66b03-fc9f-4418-9d10-a0011ced176e",
   "metadata": {},
   "source": [
    "## 3.3 Finding the best performing feature"
   ]
  },
  {
   "cell_type": "code",
   "execution_count": 19,
   "id": "d80ddd58-6523-4613-ad3b-964b0e2d4e0d",
   "metadata": {},
   "outputs": [],
   "source": [
    "data = pd.read_csv('car_insurance.csv', index_col='id')"
   ]
  },
  {
   "cell_type": "code",
   "execution_count": 20,
   "id": "781237e8-237b-4bb2-ad52-c6f33b4ced3e",
   "metadata": {},
   "outputs": [],
   "source": [
    "models = []\n",
    "features = data.drop('outcome', axis=1).columns\n",
    "accuracies = []"
   ]
  },
  {
   "cell_type": "code",
   "execution_count": 23,
   "id": "21d4df97-1dde-4418-9ba4-49a40fdb7091",
   "metadata": {},
   "outputs": [
    {
     "name": "stdout",
     "output_type": "stream",
     "text": [
      "Optimization terminated successfully.\n",
      "         Current function value: 0.511794\n",
      "         Iterations 6\n",
      "Optimization terminated successfully.\n",
      "         Current function value: 0.615951\n",
      "         Iterations 5\n",
      "Optimization terminated successfully.\n",
      "         Current function value: 0.467092\n",
      "         Iterations 8\n",
      "Optimization terminated successfully.\n",
      "         Current function value: 0.603742\n",
      "         Iterations 5\n",
      "Optimization terminated successfully.\n",
      "         Current function value: 0.531499\n",
      "         Iterations 6\n",
      "Optimization terminated successfully.\n",
      "         Current function value: 0.567469\n",
      "         Iterations 6\n",
      "Optimization terminated successfully.\n",
      "         Current function value: 0.552412\n",
      "         Iterations 5\n",
      "Optimization terminated successfully.\n",
      "         Current function value: 0.572668\n",
      "         Iterations 6\n",
      "Optimization terminated successfully.\n",
      "         Current function value: 0.586659\n",
      "         Iterations 5\n",
      "Optimization terminated successfully.\n",
      "         Current function value: 0.595431\n",
      "         Iterations 5\n",
      "Optimization terminated successfully.\n",
      "         Current function value: 0.617345\n",
      "         Iterations 5\n",
      "Optimization terminated successfully.\n",
      "         Current function value: 0.601906\n",
      "         Iterations 5\n",
      "Optimization terminated successfully.\n",
      "         Current function value: 0.621700\n",
      "         Iterations 5\n",
      "Optimization terminated successfully.\n",
      "         Current function value: 0.558922\n",
      "         Iterations 7\n",
      "Optimization terminated successfully.\n",
      "         Current function value: 0.598699\n",
      "         Iterations 6\n",
      "Optimization terminated successfully.\n",
      "         Current function value: 0.549220\n",
      "         Iterations 7\n"
     ]
    }
   ],
   "source": [
    "for feature in features:\n",
    "    model = logit(f\"outcome ~ {feature}\", data=data).fit()\n",
    "    models.append(model)\n",
    "    pred_table = model.pred_table()\n",
    "    accuracy = (pred_table[0][0] + pred_table[1][1])/pred_table.sum()\n",
    "    accuracies.append(accuracy)"
   ]
  },
  {
   "cell_type": "code",
   "execution_count": 22,
   "id": "502a9e98-fff5-44d4-8896-d28169cc9dc0",
   "metadata": {},
   "outputs": [
    {
     "data": {
      "text/html": [
       "<div>\n",
       "<style scoped>\n",
       "    .dataframe tbody tr th:only-of-type {\n",
       "        vertical-align: middle;\n",
       "    }\n",
       "\n",
       "    .dataframe tbody tr th {\n",
       "        vertical-align: top;\n",
       "    }\n",
       "\n",
       "    .dataframe thead th {\n",
       "        text-align: right;\n",
       "    }\n",
       "</style>\n",
       "<table border=\"1\" class=\"dataframe\">\n",
       "  <thead>\n",
       "    <tr style=\"text-align: right;\">\n",
       "      <th></th>\n",
       "      <th>features</th>\n",
       "      <th>accuracies</th>\n",
       "    </tr>\n",
       "  </thead>\n",
       "  <tbody>\n",
       "    <tr>\n",
       "      <th>2</th>\n",
       "      <td>driving_experience</td>\n",
       "      <td>0.777100</td>\n",
       "    </tr>\n",
       "    <tr>\n",
       "      <th>0</th>\n",
       "      <td>age</td>\n",
       "      <td>0.774700</td>\n",
       "    </tr>\n",
       "    <tr>\n",
       "      <th>4</th>\n",
       "      <td>income</td>\n",
       "      <td>0.742500</td>\n",
       "    </tr>\n",
       "    <tr>\n",
       "      <th>6</th>\n",
       "      <td>vehicle_ownership</td>\n",
       "      <td>0.735100</td>\n",
       "    </tr>\n",
       "    <tr>\n",
       "      <th>5</th>\n",
       "      <td>credit_score</td>\n",
       "      <td>0.706698</td>\n",
       "    </tr>\n",
       "    <tr>\n",
       "      <th>11</th>\n",
       "      <td>annual_mileage</td>\n",
       "      <td>0.693354</td>\n",
       "    </tr>\n",
       "    <tr>\n",
       "      <th>1</th>\n",
       "      <td>gender</td>\n",
       "      <td>0.686700</td>\n",
       "    </tr>\n",
       "    <tr>\n",
       "      <th>3</th>\n",
       "      <td>education</td>\n",
       "      <td>0.686700</td>\n",
       "    </tr>\n",
       "    <tr>\n",
       "      <th>7</th>\n",
       "      <td>vehicle_year</td>\n",
       "      <td>0.686700</td>\n",
       "    </tr>\n",
       "    <tr>\n",
       "      <th>8</th>\n",
       "      <td>married</td>\n",
       "      <td>0.686700</td>\n",
       "    </tr>\n",
       "    <tr>\n",
       "      <th>9</th>\n",
       "      <td>children</td>\n",
       "      <td>0.686700</td>\n",
       "    </tr>\n",
       "    <tr>\n",
       "      <th>10</th>\n",
       "      <td>postal_code</td>\n",
       "      <td>0.686700</td>\n",
       "    </tr>\n",
       "    <tr>\n",
       "      <th>12</th>\n",
       "      <td>vehicle_type</td>\n",
       "      <td>0.686700</td>\n",
       "    </tr>\n",
       "    <tr>\n",
       "      <th>13</th>\n",
       "      <td>speeding_violations</td>\n",
       "      <td>0.686700</td>\n",
       "    </tr>\n",
       "    <tr>\n",
       "      <th>14</th>\n",
       "      <td>duis</td>\n",
       "      <td>0.686700</td>\n",
       "    </tr>\n",
       "    <tr>\n",
       "      <th>15</th>\n",
       "      <td>past_accidents</td>\n",
       "      <td>0.686700</td>\n",
       "    </tr>\n",
       "  </tbody>\n",
       "</table>\n",
       "</div>"
      ],
      "text/plain": [
       "               features  accuracies\n",
       "2    driving_experience    0.777100\n",
       "0                   age    0.774700\n",
       "4                income    0.742500\n",
       "6     vehicle_ownership    0.735100\n",
       "5          credit_score    0.706698\n",
       "11       annual_mileage    0.693354\n",
       "1                gender    0.686700\n",
       "3             education    0.686700\n",
       "7          vehicle_year    0.686700\n",
       "8               married    0.686700\n",
       "9              children    0.686700\n",
       "10          postal_code    0.686700\n",
       "12         vehicle_type    0.686700\n",
       "13  speeding_violations    0.686700\n",
       "14                 duis    0.686700\n",
       "15       past_accidents    0.686700"
      ]
     },
     "execution_count": 22,
     "metadata": {},
     "output_type": "execute_result"
    }
   ],
   "source": [
    "feature_accuracy = pd.DataFrame({\"features\":features,\n",
    "                                 \"accuracies\":accuracies})\n",
    "feature_accuracy.sort_values(\"accuracies\", ascending=False)"
   ]
  }
 ],
 "metadata": {
  "kernelspec": {
   "display_name": "Python 3 (ipykernel)",
   "language": "python",
   "name": "python3"
  },
  "language_info": {
   "codemirror_mode": {
    "name": "ipython",
    "version": 3
   },
   "file_extension": ".py",
   "mimetype": "text/x-python",
   "name": "python",
   "nbconvert_exporter": "python",
   "pygments_lexer": "ipython3",
   "version": "3.12.2"
  }
 },
 "nbformat": 4,
 "nbformat_minor": 5
}
